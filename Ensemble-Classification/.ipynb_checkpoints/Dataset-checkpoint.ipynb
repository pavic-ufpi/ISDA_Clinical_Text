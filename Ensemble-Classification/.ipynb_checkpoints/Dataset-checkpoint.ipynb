{
 "cells": [
  {
   "cell_type": "code",
   "execution_count": 1,
   "id": "df941381",
   "metadata": {},
   "outputs": [],
   "source": [
    "import itertools\n",
    "import numpy as np\n",
    "import pandas as pd\n",
    "from utils import plot_proj\n",
    "from vectorizers import bertimbau\n",
    "from sklearn.decomposition import PCA"
   ]
  },
  {
   "cell_type": "markdown",
   "id": "ec17eb15",
   "metadata": {},
   "source": [
    "# DATA"
   ]
  },
  {
   "cell_type": "code",
   "execution_count": 3,
   "id": "972bc005",
   "metadata": {},
   "outputs": [
    {
     "data": {
      "text/html": [
       "<div>\n",
       "<style scoped>\n",
       "    .dataframe tbody tr th:only-of-type {\n",
       "        vertical-align: middle;\n",
       "    }\n",
       "\n",
       "    .dataframe tbody tr th {\n",
       "        vertical-align: top;\n",
       "    }\n",
       "\n",
       "    .dataframe thead th {\n",
       "        text-align: right;\n",
       "    }\n",
       "</style>\n",
       "<table border=\"1\" class=\"dataframe\">\n",
       "  <thead>\n",
       "    <tr style=\"text-align: right;\">\n",
       "      <th></th>\n",
       "      <th>DATA</th>\n",
       "      <th>TEXTO</th>\n",
       "      <th>LABEL</th>\n",
       "    </tr>\n",
       "  </thead>\n",
       "  <tbody>\n",
       "    <tr>\n",
       "      <th>0</th>\n",
       "      <td>2019-10-31</td>\n",
       "      <td>atestado medico atesto, para os devidos fins, ...</td>\n",
       "      <td>1</td>\n",
       "    </tr>\n",
       "    <tr>\n",
       "      <th>1</th>\n",
       "      <td>2021-06-16</td>\n",
       "      <td>encaminho ao nutricionista paciente com sobrep...</td>\n",
       "      <td>1</td>\n",
       "    </tr>\n",
       "    <tr>\n",
       "      <th>2</th>\n",
       "      <td>2017-03-22</td>\n",
       "      <td>solicito: avaliacao corporal via bioimpedancia...</td>\n",
       "      <td>2</td>\n",
       "    </tr>\n",
       "    <tr>\n",
       "      <th>3</th>\n",
       "      <td>2013-07-02</td>\n",
       "      <td>a psicologa, encaminho paciente com crises de ...</td>\n",
       "      <td>1</td>\n",
       "    </tr>\n",
       "    <tr>\n",
       "      <th>4</th>\n",
       "      <td>2019-06-12</td>\n",
       "      <td>paciente com queixas de dores em ombro direito...</td>\n",
       "      <td>1</td>\n",
       "    </tr>\n",
       "    <tr>\n",
       "      <th>...</th>\n",
       "      <td>...</td>\n",
       "      <td>...</td>\n",
       "      <td>...</td>\n",
       "    </tr>\n",
       "    <tr>\n",
       "      <th>2995</th>\n",
       "      <td>2015-01-12</td>\n",
       "      <td>solicitacao de exame: no. 835 convenio: matric...</td>\n",
       "      <td>2</td>\n",
       "    </tr>\n",
       "    <tr>\n",
       "      <th>2996</th>\n",
       "      <td>2013-06-04</td>\n",
       "      <td>uso oral 1.pantocal 40 mg tomar um comp via or...</td>\n",
       "      <td>0</td>\n",
       "    </tr>\n",
       "    <tr>\n",
       "      <th>2997</th>\n",
       "      <td>2018-04-10</td>\n",
       "      <td>trauma na mao direita (futebol) edemaem 5o ded...</td>\n",
       "      <td>1</td>\n",
       "    </tr>\n",
       "    <tr>\n",
       "      <th>2998</th>\n",
       "      <td>2019-02-11</td>\n",
       "      <td>solicitacao de exame: no. 2843 convenio: matri...</td>\n",
       "      <td>2</td>\n",
       "    </tr>\n",
       "    <tr>\n",
       "      <th>2999</th>\n",
       "      <td>2017-10-23</td>\n",
       "      <td>solicito: estradiol tgo tgp creatinina hemogra...</td>\n",
       "      <td>2</td>\n",
       "    </tr>\n",
       "  </tbody>\n",
       "</table>\n",
       "<p>3000 rows × 3 columns</p>\n",
       "</div>"
      ],
      "text/plain": [
       "            DATA                                              TEXTO  LABEL\n",
       "0     2019-10-31  atestado medico atesto, para os devidos fins, ...      1\n",
       "1     2021-06-16  encaminho ao nutricionista paciente com sobrep...      1\n",
       "2     2017-03-22  solicito: avaliacao corporal via bioimpedancia...      2\n",
       "3     2013-07-02  a psicologa, encaminho paciente com crises de ...      1\n",
       "4     2019-06-12  paciente com queixas de dores em ombro direito...      1\n",
       "...          ...                                                ...    ...\n",
       "2995  2015-01-12  solicitacao de exame: no. 835 convenio: matric...      2\n",
       "2996  2013-06-04  uso oral 1.pantocal 40 mg tomar um comp via or...      0\n",
       "2997  2018-04-10  trauma na mao direita (futebol) edemaem 5o ded...      1\n",
       "2998  2019-02-11  solicitacao de exame: no. 2843 convenio: matri...      2\n",
       "2999  2017-10-23  solicito: estradiol tgo tgp creatinina hemogra...      2\n",
       "\n",
       "[3000 rows x 3 columns]"
      ]
     },
     "execution_count": 3,
     "metadata": {},
     "output_type": "execute_result"
    }
   ],
   "source": [
    "data = pd.read_csv('C:\\\\Users\\\\orran\\\\OneDrive\\\\Documentos\\\\GitHub\\\\Research-Prescriptions\\\\3k\\\\Experimento\\\\data\\\\teste\\\\data.csv')\n",
    "data"
   ]
  },
  {
   "cell_type": "markdown",
   "id": "abad910c",
   "metadata": {},
   "source": [
    "# Plot das classes"
   ]
  },
  {
   "cell_type": "code",
   "execution_count": 11,
   "id": "65fdac10",
   "metadata": {},
   "outputs": [],
   "source": [
    "X_data, _ = bertimbau(data.TEXTO)"
   ]
  },
  {
   "cell_type": "code",
   "execution_count": 12,
   "id": "29398588",
   "metadata": {},
   "outputs": [
    {
     "data": {
      "text/html": [
       "<div>\n",
       "<style scoped>\n",
       "    .dataframe tbody tr th:only-of-type {\n",
       "        vertical-align: middle;\n",
       "    }\n",
       "\n",
       "    .dataframe tbody tr th {\n",
       "        vertical-align: top;\n",
       "    }\n",
       "\n",
       "    .dataframe thead th {\n",
       "        text-align: right;\n",
       "    }\n",
       "</style>\n",
       "<table border=\"1\" class=\"dataframe\">\n",
       "  <thead>\n",
       "    <tr style=\"text-align: right;\">\n",
       "      <th></th>\n",
       "      <th>principal component 1</th>\n",
       "      <th>principal component 2</th>\n",
       "    </tr>\n",
       "  </thead>\n",
       "  <tbody>\n",
       "    <tr>\n",
       "      <th>2995</th>\n",
       "      <td>-0.993414</td>\n",
       "      <td>2.464732</td>\n",
       "    </tr>\n",
       "    <tr>\n",
       "      <th>2996</th>\n",
       "      <td>2.603865</td>\n",
       "      <td>-0.349409</td>\n",
       "    </tr>\n",
       "    <tr>\n",
       "      <th>2997</th>\n",
       "      <td>-0.947078</td>\n",
       "      <td>-0.155999</td>\n",
       "    </tr>\n",
       "    <tr>\n",
       "      <th>2998</th>\n",
       "      <td>-2.692485</td>\n",
       "      <td>0.592304</td>\n",
       "    </tr>\n",
       "    <tr>\n",
       "      <th>2999</th>\n",
       "      <td>0.038974</td>\n",
       "      <td>3.153829</td>\n",
       "    </tr>\n",
       "  </tbody>\n",
       "</table>\n",
       "</div>"
      ],
      "text/plain": [
       "      principal component 1  principal component 2\n",
       "2995              -0.993414               2.464732\n",
       "2996               2.603865              -0.349409\n",
       "2997              -0.947078              -0.155999\n",
       "2998              -2.692485               0.592304\n",
       "2999               0.038974               3.153829"
      ]
     },
     "execution_count": 12,
     "metadata": {},
     "output_type": "execute_result"
    }
   ],
   "source": [
    "X_embedded = PCA(n_components=2).fit_transform(X_data)\n",
    "label_data = pd.DataFrame(data = X_embedded, columns = ['principal component 1', 'principal component 2'])\n",
    "label_data.tail()"
   ]
  },
  {
   "cell_type": "code",
   "execution_count": 13,
   "id": "d8d64286",
   "metadata": {},
   "outputs": [],
   "source": [
    "import numpy as np\n",
    "import seaborn as sns\n",
    "from itertools import cycle\n",
    "from collections import Counter\n",
    "import matplotlib.pyplot as plt\n",
    "from sklearn.metrics import confusion_matrix\n",
    "from sklearn.preprocessing import label_binarize\n",
    "from sklearn.metrics import roc_curve, auc\n",
    "\n",
    "def plot_proj(embedding, lbs, combination):\n",
    "    n = len(embedding)\n",
    "    counter = Counter(lbs)\n",
    "    nome = ''\n",
    "    cor = ''\n",
    "    for i in range(len(np.unique(lbs))):\n",
    "        if i == 0:\n",
    "            nome = 'Prescriptions'\n",
    "        elif i == 1:\n",
    "            nome = 'Clinical notes'\n",
    "        else:\n",
    "            nome = 'Med. examinations'  #, label='{}: {:.2f}%'.format(nome, counter[i] / n * 100)\n",
    "        plt.plot(embedding[:, 0][lbs == i], embedding[:, 1][lbs == i], '.', label='{}: {:.2f}%'.format(nome, counter[i] / n * 100))\n",
    "    plt.legend(loc = 'best', fontsize=8)\n",
    "    plt.xlabel('First component', fontsize=11)\n",
    "    plt.ylabel('Second component', fontsize=11)\n",
    "    plt.grid(color ='grey', linestyle='-',linewidth = 0.25)\n",
    "    filename = 'C:\\\\Users\\\\orran\\\\OneDrive\\\\Documentos\\\\GitHub\\\\Research-Prescriptions\\\\3k\\\\Experimento\\\\Ensemble-Classification\\\\figures\\\\pca_%s.png' %combination\n",
    "    plt.savefig(filename, dpi=800)"
   ]
  },
  {
   "cell_type": "code",
   "execution_count": 14,
   "id": "f8a841e0",
   "metadata": {},
   "outputs": [
    {
     "data": {
      "image/png": "[encoded data removed]",
      "text/plain": [
       "<Figure size 432x288 with 1 Axes>"
      ]
     },
     "metadata": {
      "needs_background": "light"
     },
     "output_type": "display_data"
    }
   ],
   "source": [
    "plot_proj(X_embedded, data.LABEL,'data_bert')"
   ]
  },
  {
   "cell_type": "markdown",
   "id": "8710c7ad",
   "metadata": {},
   "source": [
    "# Estatísticas"
   ]
  },
  {
   "cell_type": "code",
   "execution_count": 4,
   "id": "2638b553",
   "metadata": {},
   "outputs": [],
   "source": [
    "def get_median_num_words_per_sample(sample_texts):\n",
    "    num_words = [len(s.split()) for s in sample_texts]\n",
    "    return np.median(num_words)"
   ]
  },
  {
   "cell_type": "code",
   "execution_count": 5,
   "id": "8711173b",
   "metadata": {},
   "outputs": [],
   "source": [
    "def get_num_words_per_sample(sample_texts):\n",
    "    num_words = [len(s.split()) for s in sample_texts]\n",
    "    return np.sum(num_words)"
   ]
  },
  {
   "cell_type": "code",
   "execution_count": 6,
   "id": "07cd40f9",
   "metadata": {},
   "outputs": [],
   "source": [
    "def get_num_unique_words_per_sample(sample_texts):\n",
    "    words = [s.split() for s in sample_texts]\n",
    "    words = list(itertools.chain(*words))\n",
    "    unique = set(words) \n",
    "    return len(unique)"
   ]
  },
  {
   "cell_type": "code",
   "execution_count": 8,
   "id": "fc378242",
   "metadata": {},
   "outputs": [
    {
     "name": "stdout",
     "output_type": "stream",
     "text": [
      "Número de amostras no total - 3000\n",
      "------------------------------------------\n",
      "Número de amostras na classe 0 - 1000\n",
      "Número de amostras na classe 1 - 1000\n",
      "Número de amostras na classe 2 - 1000\n",
      "------------------------------------------\n",
      "Número de palavras nas amostras na classe 0 - 38054\n",
      "Número de palavras nas amostras na classe 1 - 36205\n",
      "Número de palavras nas amostras na classe 2 - 15811\n",
      "------------------------------------------\n",
      "Número de palavras únicas nas amostras na classe 0 - 1934\n",
      "Número de palavras únicas nas amostras na classe 1 - 4361\n",
      "Número de palavras únicas nas amostras na classe 2 - 1745\n",
      "------------------------------------------\n",
      "Número médio de palavras por amostra na classe 0 - 32.0\n",
      "Número médio de palavras por amostra na classe 1 - 23.0\n",
      "Número médio de palavras por amostra na classe 2 - 14.0\n"
     ]
    }
   ],
   "source": [
    "print('Número de amostras no total -', len(data))\n",
    "print('------------------------------------------')\n",
    "\n",
    "print('Número de amostras na classe 0 -', len(data.loc[data.LABEL == 0]))\n",
    "print('Número de amostras na classe 1 -', len(data.loc[data.LABEL == 1]))\n",
    "print('Número de amostras na classe 2 -', len(data.loc[data.LABEL == 2]))\n",
    "\n",
    "print('------------------------------------------')\n",
    "print('Número de palavras nas amostras na classe 0 -', get_num_words_per_sample(data.TEXTO.loc[data.LABEL == 0]))\n",
    "print('Número de palavras nas amostras na classe 1 -', get_num_words_per_sample(data.TEXTO.loc[data.LABEL == 1]))\n",
    "print('Número de palavras nas amostras na classe 2 -', get_num_words_per_sample(data.TEXTO.loc[data.LABEL == 2]))\n",
    "\n",
    "print('------------------------------------------')\n",
    "print('Número de palavras únicas nas amostras na classe 0 -', get_num_unique_words_per_sample(data.TEXTO.loc[data.LABEL == 0]))\n",
    "print('Número de palavras únicas nas amostras na classe 1 -', get_num_unique_words_per_sample(data.TEXTO.loc[data.LABEL == 1]))\n",
    "print('Número de palavras únicas nas amostras na classe 2 -', get_num_unique_words_per_sample(data.TEXTO.loc[data.LABEL == 2]))\n",
    "\n",
    "print('------------------------------------------')\n",
    "print('Número médio de palavras por amostra na classe 0 -', get_median_num_words_per_sample(data.TEXTO.loc[data.LABEL == 0]))\n",
    "print('Número médio de palavras por amostra na classe 1 -', get_median_num_words_per_sample(data.TEXTO.loc[data.LABEL == 1]))\n",
    "print('Número médio de palavras por amostra na classe 2 -', get_median_num_words_per_sample(data.TEXTO.loc[data.LABEL == 2]))"
   ]
  },
  {
   "cell_type": "code",
   "execution_count": null,
   "id": "582e0ecd",
   "metadata": {},
   "outputs": [],
   "source": []
  }
 ],
 "metadata": {
  "kernelspec": {
   "display_name": "Python 3 (ipykernel)",
   "language": "python",
   "name": "python3"
  },
  "language_info": {
   "codemirror_mode": {
    "name": "ipython",
    "version": 3
   },
   "file_extension": ".py",
   "mimetype": "text/x-python",
   "name": "python",
   "nbconvert_exporter": "python",
   "pygments_lexer": "ipython3",
   "version": "3.8.8"
  }
 },
 "nbformat": 4,
 "nbformat_minor": 5
}
